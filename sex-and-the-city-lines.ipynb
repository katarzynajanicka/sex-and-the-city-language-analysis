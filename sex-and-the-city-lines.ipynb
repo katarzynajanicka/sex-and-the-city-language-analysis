{
 "cells": [
  {
   "cell_type": "markdown",
   "metadata": {},
   "source": [
    "# Sex and the City lines"
   ]
  },
  {
   "cell_type": "code",
   "execution_count": 1,
   "metadata": {},
   "outputs": [],
   "source": [
    "# import Python libraries\n",
    "import pandas as pd\n",
    "import nltk\n",
    "\n",
    "import matplotlib as plt\n",
    "import seaborn as sns; sns.set()"
   ]
  },
  {
   "cell_type": "code",
   "execution_count": 2,
   "metadata": {},
   "outputs": [
    {
     "data": {
      "text/html": [
       "<div>\n",
       "<style scoped>\n",
       "    .dataframe tbody tr th:only-of-type {\n",
       "        vertical-align: middle;\n",
       "    }\n",
       "\n",
       "    .dataframe tbody tr th {\n",
       "        vertical-align: top;\n",
       "    }\n",
       "\n",
       "    .dataframe thead th {\n",
       "        text-align: right;\n",
       "    }\n",
       "</style>\n",
       "<table border=\"1\" class=\"dataframe\">\n",
       "  <thead>\n",
       "    <tr style=\"text-align: right;\">\n",
       "      <th></th>\n",
       "      <th>Unnamed: 0</th>\n",
       "      <th>Season</th>\n",
       "      <th>Episode</th>\n",
       "      <th>Speaker</th>\n",
       "      <th>Line</th>\n",
       "      <th>date_job</th>\n",
       "    </tr>\n",
       "  </thead>\n",
       "  <tbody>\n",
       "    <tr>\n",
       "      <th>0</th>\n",
       "      <td>0</td>\n",
       "      <td>1.0</td>\n",
       "      <td>1.0</td>\n",
       "      <td>Carrie</td>\n",
       "      <td>Once upon a time, an English journalist came t...</td>\n",
       "      <td>NaN</td>\n",
       "    </tr>\n",
       "    <tr>\n",
       "      <th>1</th>\n",
       "      <td>1</td>\n",
       "      <td>1.0</td>\n",
       "      <td>1.0</td>\n",
       "      <td>Carrie</td>\n",
       "      <td>Elizabeth was attractive and bright.</td>\n",
       "      <td>NaN</td>\n",
       "    </tr>\n",
       "    <tr>\n",
       "      <th>2</th>\n",
       "      <td>2</td>\n",
       "      <td>1.0</td>\n",
       "      <td>1.0</td>\n",
       "      <td>Carrie</td>\n",
       "      <td>Right away she hooked up with one of the city'...</td>\n",
       "      <td>NaN</td>\n",
       "    </tr>\n",
       "    <tr>\n",
       "      <th>3</th>\n",
       "      <td>3</td>\n",
       "      <td>1.0</td>\n",
       "      <td>1.0</td>\n",
       "      <td>Tim</td>\n",
       "      <td>The question remains-- Is this really a compan...</td>\n",
       "      <td>NaN</td>\n",
       "    </tr>\n",
       "    <tr>\n",
       "      <th>4</th>\n",
       "      <td>4</td>\n",
       "      <td>1.0</td>\n",
       "      <td>1.0</td>\n",
       "      <td>Carrie</td>\n",
       "      <td>Tim was 42, a well-liked and respected investm...</td>\n",
       "      <td>NaN</td>\n",
       "    </tr>\n",
       "  </tbody>\n",
       "</table>\n",
       "</div>"
      ],
      "text/plain": [
       "  Unnamed: 0  Season  Episode Speaker  \\\n",
       "0          0     1.0      1.0  Carrie   \n",
       "1          1     1.0      1.0  Carrie   \n",
       "2          2     1.0      1.0  Carrie   \n",
       "3          3     1.0      1.0     Tim   \n",
       "4          4     1.0      1.0  Carrie   \n",
       "\n",
       "                                                Line date_job  \n",
       "0  Once upon a time, an English journalist came t...      NaN  \n",
       "1               Elizabeth was attractive and bright.      NaN  \n",
       "2  Right away she hooked up with one of the city'...      NaN  \n",
       "3  The question remains-- Is this really a compan...      NaN  \n",
       "4  Tim was 42, a well-liked and respected investm...      NaN  "
      ]
     },
     "execution_count": 2,
     "metadata": {},
     "output_type": "execute_result"
    }
   ],
   "source": [
    "# open the csv file\n",
    "data = pd.read_csv('SATC_all_lines.csv')\n",
    "data.head()"
   ]
  },
  {
   "cell_type": "code",
   "execution_count": 3,
   "metadata": {},
   "outputs": [
    {
     "data": {
      "image/png": "[encoded data removed]",
      "text/plain": [
       "<Figure size 1080x504 with 1 Axes>"
      ]
     },
     "metadata": {},
     "output_type": "display_data"
    }
   ],
   "source": [
    "# most talkative characters\n",
    "data['Speaker'].value_counts()[:10].plot.bar(figsize=(15,7));"
   ]
  },
  {
   "cell_type": "markdown",
   "metadata": {},
   "source": [
    "## Data cleaning"
   ]
  },
  {
   "cell_type": "code",
   "execution_count": 4,
   "metadata": {},
   "outputs": [
    {
     "data": {
      "text/html": [
       "<div>\n",
       "<style scoped>\n",
       "    .dataframe tbody tr th:only-of-type {\n",
       "        vertical-align: middle;\n",
       "    }\n",
       "\n",
       "    .dataframe tbody tr th {\n",
       "        vertical-align: top;\n",
       "    }\n",
       "\n",
       "    .dataframe thead th {\n",
       "        text-align: right;\n",
       "    }\n",
       "</style>\n",
       "<table border=\"1\" class=\"dataframe\">\n",
       "  <thead>\n",
       "    <tr style=\"text-align: right;\">\n",
       "      <th></th>\n",
       "      <th>Unnamed: 0</th>\n",
       "      <th>Season</th>\n",
       "      <th>Episode</th>\n",
       "      <th>Speaker</th>\n",
       "      <th>Line</th>\n",
       "      <th>date_job</th>\n",
       "    </tr>\n",
       "  </thead>\n",
       "  <tbody>\n",
       "    <tr>\n",
       "      <th>101</th>\n",
       "      <td>101</td>\n",
       "      <td>1.0</td>\n",
       "      <td>1.0</td>\n",
       "      <td>Miranda</td>\n",
       "      <td>It's like that guy, Jeremiah, the poet.</td>\n",
       "      <td>x</td>\n",
       "    </tr>\n",
       "    <tr>\n",
       "      <th>218</th>\n",
       "      <td>218</td>\n",
       "      <td>1.0</td>\n",
       "      <td>1.0</td>\n",
       "      <td>Charlotte</td>\n",
       "      <td>Capote Duncan. He's supposedly some big shot i...</td>\n",
       "      <td>x</td>\n",
       "    </tr>\n",
       "    <tr>\n",
       "      <th>368</th>\n",
       "      <td>1</td>\n",
       "      <td>1.0</td>\n",
       "      <td>2.0</td>\n",
       "      <td>Carrie</td>\n",
       "      <td>She was the date of Nick a fairly successful s...</td>\n",
       "      <td>x</td>\n",
       "    </tr>\n",
       "    <tr>\n",
       "      <th>501</th>\n",
       "      <td>134</td>\n",
       "      <td>1.0</td>\n",
       "      <td>2.0</td>\n",
       "      <td>Carrie</td>\n",
       "      <td>Barkley, a notorious modelizer was one of thos...</td>\n",
       "      <td>x</td>\n",
       "    </tr>\n",
       "    <tr>\n",
       "      <th>936</th>\n",
       "      <td>189</td>\n",
       "      <td>1.0</td>\n",
       "      <td>3.0</td>\n",
       "      <td>Carrie</td>\n",
       "      <td>Two espressos and a tiramisu later I had learn...</td>\n",
       "      <td>x</td>\n",
       "    </tr>\n",
       "    <tr>\n",
       "      <th>...</th>\n",
       "      <td>...</td>\n",
       "      <td>...</td>\n",
       "      <td>...</td>\n",
       "      <td>...</td>\n",
       "      <td>...</td>\n",
       "      <td>...</td>\n",
       "    </tr>\n",
       "    <tr>\n",
       "      <th>30663</th>\n",
       "      <td>89</td>\n",
       "      <td>6.0</td>\n",
       "      <td>2.0</td>\n",
       "      <td>Smith</td>\n",
       "      <td>We'd like to get you started with a little amu...</td>\n",
       "      <td>x</td>\n",
       "    </tr>\n",
       "    <tr>\n",
       "      <th>32917</th>\n",
       "      <td>450</td>\n",
       "      <td>6.0</td>\n",
       "      <td>6.0</td>\n",
       "      <td>Carrie</td>\n",
       "      <td>Gus Fiansent offered Smith a part of a model /...</td>\n",
       "      <td>x</td>\n",
       "    </tr>\n",
       "    <tr>\n",
       "      <th>34050</th>\n",
       "      <td>63</td>\n",
       "      <td>6.0</td>\n",
       "      <td>9.0</td>\n",
       "      <td>Miranda</td>\n",
       "      <td>So, Robert, you're a doctor for the Knicks?</td>\n",
       "      <td>x</td>\n",
       "    </tr>\n",
       "    <tr>\n",
       "      <th>35027</th>\n",
       "      <td>82</td>\n",
       "      <td>6.0</td>\n",
       "      <td>11.0</td>\n",
       "      <td>Robert</td>\n",
       "      <td>- I'm a doctor.</td>\n",
       "      <td>x</td>\n",
       "    </tr>\n",
       "    <tr>\n",
       "      <th>35487</th>\n",
       "      <td>26</td>\n",
       "      <td>6.0</td>\n",
       "      <td>12.0</td>\n",
       "      <td>Charlotte</td>\n",
       "      <td>That's Aleksandr Petrovsky, the artist.</td>\n",
       "      <td>x</td>\n",
       "    </tr>\n",
       "  </tbody>\n",
       "</table>\n",
       "<p>88 rows × 6 columns</p>\n",
       "</div>"
      ],
      "text/plain": [
       "      Unnamed: 0  Season  Episode    Speaker  \\\n",
       "101          101     1.0      1.0    Miranda   \n",
       "218          218     1.0      1.0  Charlotte   \n",
       "368            1     1.0      2.0     Carrie   \n",
       "501          134     1.0      2.0     Carrie   \n",
       "936          189     1.0      3.0     Carrie   \n",
       "...          ...     ...      ...        ...   \n",
       "30663         89     6.0      2.0      Smith   \n",
       "32917        450     6.0      6.0     Carrie   \n",
       "34050         63     6.0      9.0    Miranda   \n",
       "35027         82     6.0     11.0     Robert   \n",
       "35487         26     6.0     12.0  Charlotte   \n",
       "\n",
       "                                                    Line date_job  \n",
       "101              It's like that guy, Jeremiah, the poet.        x  \n",
       "218    Capote Duncan. He's supposedly some big shot i...        x  \n",
       "368    She was the date of Nick a fairly successful s...        x  \n",
       "501    Barkley, a notorious modelizer was one of thos...        x  \n",
       "936    Two espressos and a tiramisu later I had learn...        x  \n",
       "...                                                  ...      ...  \n",
       "30663  We'd like to get you started with a little amu...        x  \n",
       "32917  Gus Fiansent offered Smith a part of a model /...        x  \n",
       "34050       So, Robert, you're a doctor for the Knicks?         x  \n",
       "35027                                   - I'm a doctor.         x  \n",
       "35487            That's Aleksandr Petrovsky, the artist.        x  \n",
       "\n",
       "[88 rows x 6 columns]"
      ]
     },
     "execution_count": 4,
     "metadata": {},
     "output_type": "execute_result"
    }
   ],
   "source": [
    "data.loc[data['date_job'].notnull()]"
   ]
  },
  {
   "cell_type": "code",
   "execution_count": 5,
   "metadata": {},
   "outputs": [
    {
     "data": {
      "text/plain": [
       "x                             86\n",
       "Broker                         1\n",
       "Date's job title mentioned     1\n",
       "Name: date_job, dtype: int64"
      ]
     },
     "execution_count": 5,
     "metadata": {},
     "output_type": "execute_result"
    }
   ],
   "source": [
    "data['date_job'].value_counts()"
   ]
  },
  {
   "cell_type": "code",
   "execution_count": 6,
   "metadata": {},
   "outputs": [
    {
     "data": {
      "text/html": [
       "<div>\n",
       "<style scoped>\n",
       "    .dataframe tbody tr th:only-of-type {\n",
       "        vertical-align: middle;\n",
       "    }\n",
       "\n",
       "    .dataframe tbody tr th {\n",
       "        vertical-align: top;\n",
       "    }\n",
       "\n",
       "    .dataframe thead th {\n",
       "        text-align: right;\n",
       "    }\n",
       "</style>\n",
       "<table border=\"1\" class=\"dataframe\">\n",
       "  <thead>\n",
       "    <tr style=\"text-align: right;\">\n",
       "      <th></th>\n",
       "      <th>Unnamed: 0</th>\n",
       "      <th>Season</th>\n",
       "      <th>Episode</th>\n",
       "      <th>Speaker</th>\n",
       "      <th>Line</th>\n",
       "    </tr>\n",
       "  </thead>\n",
       "  <tbody>\n",
       "    <tr>\n",
       "      <th>0</th>\n",
       "      <td>0</td>\n",
       "      <td>1.0</td>\n",
       "      <td>1.0</td>\n",
       "      <td>Carrie</td>\n",
       "      <td>Once upon a time, an English journalist came t...</td>\n",
       "    </tr>\n",
       "    <tr>\n",
       "      <th>1</th>\n",
       "      <td>1</td>\n",
       "      <td>1.0</td>\n",
       "      <td>1.0</td>\n",
       "      <td>Carrie</td>\n",
       "      <td>Elizabeth was attractive and bright.</td>\n",
       "    </tr>\n",
       "    <tr>\n",
       "      <th>2</th>\n",
       "      <td>2</td>\n",
       "      <td>1.0</td>\n",
       "      <td>1.0</td>\n",
       "      <td>Carrie</td>\n",
       "      <td>Right away she hooked up with one of the city'...</td>\n",
       "    </tr>\n",
       "    <tr>\n",
       "      <th>3</th>\n",
       "      <td>3</td>\n",
       "      <td>1.0</td>\n",
       "      <td>1.0</td>\n",
       "      <td>Tim</td>\n",
       "      <td>The question remains-- Is this really a compan...</td>\n",
       "    </tr>\n",
       "    <tr>\n",
       "      <th>4</th>\n",
       "      <td>4</td>\n",
       "      <td>1.0</td>\n",
       "      <td>1.0</td>\n",
       "      <td>Carrie</td>\n",
       "      <td>Tim was 42, a well-liked and respected investm...</td>\n",
       "    </tr>\n",
       "  </tbody>\n",
       "</table>\n",
       "</div>"
      ],
      "text/plain": [
       "  Unnamed: 0  Season  Episode Speaker  \\\n",
       "0          0     1.0      1.0  Carrie   \n",
       "1          1     1.0      1.0  Carrie   \n",
       "2          2     1.0      1.0  Carrie   \n",
       "3          3     1.0      1.0     Tim   \n",
       "4          4     1.0      1.0  Carrie   \n",
       "\n",
       "                                                Line  \n",
       "0  Once upon a time, an English journalist came t...  \n",
       "1               Elizabeth was attractive and bright.  \n",
       "2  Right away she hooked up with one of the city'...  \n",
       "3  The question remains-- Is this really a compan...  \n",
       "4  Tim was 42, a well-liked and respected investm...  "
      ]
     },
     "execution_count": 6,
     "metadata": {},
     "output_type": "execute_result"
    }
   ],
   "source": [
    "del data['date_job']\n",
    "data.head()"
   ]
  },
  {
   "cell_type": "code",
   "execution_count": 7,
   "metadata": {},
   "outputs": [
    {
     "data": {
      "text/html": [
       "<div>\n",
       "<style scoped>\n",
       "    .dataframe tbody tr th:only-of-type {\n",
       "        vertical-align: middle;\n",
       "    }\n",
       "\n",
       "    .dataframe tbody tr th {\n",
       "        vertical-align: top;\n",
       "    }\n",
       "\n",
       "    .dataframe thead th {\n",
       "        text-align: right;\n",
       "    }\n",
       "</style>\n",
       "<table border=\"1\" class=\"dataframe\">\n",
       "  <thead>\n",
       "    <tr style=\"text-align: right;\">\n",
       "      <th></th>\n",
       "      <th>Season</th>\n",
       "      <th>Episode</th>\n",
       "      <th>Speaker</th>\n",
       "      <th>Line</th>\n",
       "    </tr>\n",
       "  </thead>\n",
       "  <tbody>\n",
       "    <tr>\n",
       "      <th>0</th>\n",
       "      <td>1.0</td>\n",
       "      <td>1.0</td>\n",
       "      <td>Carrie</td>\n",
       "      <td>Once upon a time, an English journalist came t...</td>\n",
       "    </tr>\n",
       "    <tr>\n",
       "      <th>1</th>\n",
       "      <td>1.0</td>\n",
       "      <td>1.0</td>\n",
       "      <td>Carrie</td>\n",
       "      <td>Elizabeth was attractive and bright.</td>\n",
       "    </tr>\n",
       "    <tr>\n",
       "      <th>2</th>\n",
       "      <td>1.0</td>\n",
       "      <td>1.0</td>\n",
       "      <td>Carrie</td>\n",
       "      <td>Right away she hooked up with one of the city'...</td>\n",
       "    </tr>\n",
       "    <tr>\n",
       "      <th>3</th>\n",
       "      <td>1.0</td>\n",
       "      <td>1.0</td>\n",
       "      <td>Tim</td>\n",
       "      <td>The question remains-- Is this really a compan...</td>\n",
       "    </tr>\n",
       "    <tr>\n",
       "      <th>4</th>\n",
       "      <td>1.0</td>\n",
       "      <td>1.0</td>\n",
       "      <td>Carrie</td>\n",
       "      <td>Tim was 42, a well-liked and respected investm...</td>\n",
       "    </tr>\n",
       "  </tbody>\n",
       "</table>\n",
       "</div>"
      ],
      "text/plain": [
       "   Season  Episode Speaker                                               Line\n",
       "0     1.0      1.0  Carrie  Once upon a time, an English journalist came t...\n",
       "1     1.0      1.0  Carrie               Elizabeth was attractive and bright.\n",
       "2     1.0      1.0  Carrie  Right away she hooked up with one of the city'...\n",
       "3     1.0      1.0     Tim  The question remains-- Is this really a compan...\n",
       "4     1.0      1.0  Carrie  Tim was 42, a well-liked and respected investm..."
      ]
     },
     "execution_count": 7,
     "metadata": {},
     "output_type": "execute_result"
    }
   ],
   "source": [
    "del data['Unnamed: 0']\n",
    "data.head()"
   ]
  },
  {
   "cell_type": "code",
   "execution_count": 8,
   "metadata": {},
   "outputs": [
    {
     "data": {
      "text/html": [
       "<div>\n",
       "<style scoped>\n",
       "    .dataframe tbody tr th:only-of-type {\n",
       "        vertical-align: middle;\n",
       "    }\n",
       "\n",
       "    .dataframe tbody tr th {\n",
       "        vertical-align: top;\n",
       "    }\n",
       "\n",
       "    .dataframe thead th {\n",
       "        text-align: right;\n",
       "    }\n",
       "</style>\n",
       "<table border=\"1\" class=\"dataframe\">\n",
       "  <thead>\n",
       "    <tr style=\"text-align: right;\">\n",
       "      <th></th>\n",
       "      <th>Season</th>\n",
       "      <th>Episode</th>\n",
       "      <th>Speaker</th>\n",
       "      <th>Line</th>\n",
       "    </tr>\n",
       "  </thead>\n",
       "  <tbody>\n",
       "    <tr>\n",
       "      <th>0</th>\n",
       "      <td>1.0</td>\n",
       "      <td>1.0</td>\n",
       "      <td>Carrie</td>\n",
       "      <td>Once upon a time, an English journalist came t...</td>\n",
       "    </tr>\n",
       "    <tr>\n",
       "      <th>1</th>\n",
       "      <td>1.0</td>\n",
       "      <td>1.0</td>\n",
       "      <td>Carrie</td>\n",
       "      <td>Elizabeth was attractive and bright.</td>\n",
       "    </tr>\n",
       "    <tr>\n",
       "      <th>2</th>\n",
       "      <td>1.0</td>\n",
       "      <td>1.0</td>\n",
       "      <td>Carrie</td>\n",
       "      <td>Right away she hooked up with one of the city'...</td>\n",
       "    </tr>\n",
       "    <tr>\n",
       "      <th>3</th>\n",
       "      <td>1.0</td>\n",
       "      <td>1.0</td>\n",
       "      <td>Tim</td>\n",
       "      <td>The question remains-- Is this really a compan...</td>\n",
       "    </tr>\n",
       "    <tr>\n",
       "      <th>4</th>\n",
       "      <td>1.0</td>\n",
       "      <td>1.0</td>\n",
       "      <td>Carrie</td>\n",
       "      <td>Tim was 42, a well-liked and respected investm...</td>\n",
       "    </tr>\n",
       "  </tbody>\n",
       "</table>\n",
       "</div>"
      ],
      "text/plain": [
       "   Season  Episode Speaker                                               Line\n",
       "0     1.0      1.0  Carrie  Once upon a time, an English journalist came t...\n",
       "1     1.0      1.0  Carrie               Elizabeth was attractive and bright.\n",
       "2     1.0      1.0  Carrie  Right away she hooked up with one of the city'...\n",
       "3     1.0      1.0     Tim  The question remains-- Is this really a compan...\n",
       "4     1.0      1.0  Carrie  Tim was 42, a well-liked and respected investm..."
      ]
     },
     "execution_count": 8,
     "metadata": {},
     "output_type": "execute_result"
    }
   ],
   "source": [
    "df = data.copy()\n",
    "df.head()"
   ]
  },
  {
   "cell_type": "markdown",
   "metadata": {},
   "source": [
    "## Data overview"
   ]
  },
  {
   "cell_type": "markdown",
   "metadata": {},
   "source": [
    "## Stop words"
   ]
  },
  {
   "cell_type": "code",
   "execution_count": 9,
   "metadata": {},
   "outputs": [
    {
     "name": "stdout",
     "output_type": "stream",
     "text": [
      "['i', 'me', 'my', 'myself', 'we', 'our', 'ours', 'ourselves', 'you', \"you're\", \"you've\", \"you'll\", \"you'd\", 'your', 'yours', 'yourself', 'yourselves', 'he', 'him', 'his', 'himself', 'she', \"she's\", 'her', 'hers', 'herself', 'it', \"it's\", 'its', 'itself', 'they', 'them', 'their', 'theirs', 'themselves', 'what', 'which', 'who', 'whom', 'this', 'that', \"that'll\", 'these', 'those', 'am', 'is', 'are', 'was', 'were', 'be', 'been', 'being', 'have', 'has', 'had', 'having', 'do', 'does', 'did', 'doing', 'a', 'an', 'the', 'and', 'but', 'if', 'or', 'because', 'as', 'until', 'while', 'of', 'at', 'by', 'for', 'with', 'about', 'against', 'between', 'into', 'through', 'during', 'before', 'after', 'above', 'below', 'to', 'from', 'up', 'down', 'in', 'out', 'on', 'off', 'over', 'under', 'again', 'further', 'then', 'once', 'here', 'there', 'when', 'where', 'why', 'how', 'all', 'any', 'both', 'each', 'few', 'more', 'most', 'other', 'some', 'such', 'no', 'nor', 'not', 'only', 'own', 'same', 'so', 'than', 'too', 'very', 's', 't', 'can', 'will', 'just', 'don', \"don't\", 'should', \"should've\", 'now', 'd', 'll', 'm', 'o', 're', 've', 'y', 'ain', 'aren', \"aren't\", 'couldn', \"couldn't\", 'didn', \"didn't\", 'doesn', \"doesn't\", 'hadn', \"hadn't\", 'hasn', \"hasn't\", 'haven', \"haven't\", 'isn', \"isn't\", 'ma', 'mightn', \"mightn't\", 'mustn', \"mustn't\", 'needn', \"needn't\", 'shan', \"shan't\", 'shouldn', \"shouldn't\", 'wasn', \"wasn't\", 'weren', \"weren't\", 'won', \"won't\", 'wouldn', \"wouldn't\"]\n"
     ]
    }
   ],
   "source": [
    "from nltk.corpus import stopwords\n",
    "stop = stopwords.words('english')\n",
    "print(stop)"
   ]
  },
  {
   "cell_type": "code",
   "execution_count": 10,
   "metadata": {},
   "outputs": [
    {
     "data": {
      "text/plain": [
       "['0',\n",
       " 'onc',\n",
       " 'upon',\n",
       " 'a',\n",
       " 'time,',\n",
       " 'an',\n",
       " 'english',\n",
       " 'journalist',\n",
       " 'came',\n",
       " 't...',\n",
       " '1',\n",
       " 'elizabeth',\n",
       " 'wa',\n",
       " 'attract',\n",
       " 'and',\n",
       " 'bright.',\n",
       " '2',\n",
       " 'right',\n",
       " 'away',\n",
       " 'she',\n",
       " 'hook',\n",
       " 'up',\n",
       " 'with',\n",
       " 'one',\n",
       " 'of',\n",
       " 'the',\n",
       " \"city'...\",\n",
       " '3',\n",
       " 'the',\n",
       " 'question',\n",
       " 'remains--',\n",
       " 'Is',\n",
       " 'thi',\n",
       " 'realli',\n",
       " 'a',\n",
       " 'compan...',\n",
       " '4',\n",
       " 'tim',\n",
       " 'wa',\n",
       " '42,',\n",
       " 'a',\n",
       " 'well-lik',\n",
       " 'and',\n",
       " 'respect',\n",
       " 'investm...',\n",
       " '...',\n",
       " '39994',\n",
       " '-',\n",
       " \"what'\",\n",
       " 'shake',\n",
       " 'baby?',\n",
       " '39995',\n",
       " '-',\n",
       " \"how'\",\n",
       " 'napa?',\n",
       " '39996',\n",
       " '-',\n",
       " 'the',\n",
       " 'hous',\n",
       " 'is',\n",
       " 'on',\n",
       " 'the',\n",
       " 'market.',\n",
       " '39997',\n",
       " 'look',\n",
       " 'out',\n",
       " 'new',\n",
       " 'york.',\n",
       " \"i'm\",\n",
       " 'coming.',\n",
       " '39998',\n",
       " 'well,',\n",
       " \"that'\",\n",
       " 'just',\n",
       " 'fabulous.',\n",
       " 'name:',\n",
       " 'line,',\n",
       " 'length:',\n",
       " '39999,',\n",
       " 'dtype:',\n",
       " 'object']"
      ]
     },
     "execution_count": 10,
     "metadata": {},
     "output_type": "execute_result"
    }
   ],
   "source": [
    "from nltk.stem.porter import PorterStemmer\n",
    "\n",
    "porter = PorterStemmer()\n",
    "text = str(df['Line'])\n",
    "\n",
    "def tokenizer_porter(Line):\n",
    "    return [porter.stem(word) for word in text.split()]\n",
    "\n",
    "tokenizer_porter(text)"
   ]
  },
  {
   "cell_type": "code",
   "execution_count": 11,
   "metadata": {},
   "outputs": [
    {
     "name": "stdout",
     "output_type": "stream",
     "text": [
      "['0', 'Once', 'upon', 'a', 'time', ',', 'an', 'English', 'journalist', 'came', 't', '...', '1', 'Elizabeth', 'was', 'attractive', 'and', 'bright', '.', '2', 'Right', 'away', 'she', 'hooked', 'up', 'with', 'one', 'of', 'the', 'city', \"'\", '...', '3', 'The', 'question', 'remains', '--', 'Is', 'this', 'really', 'a', 'compan', '...', '4', 'Tim', 'was', '42', ',', 'a', 'well-liked', 'and', 'respected', 'investm', '...', '...', '39994', '-', 'What', \"'s\", 'shaking', 'baby', '?', '39995', '-', 'How', \"'s\", 'Napa', '?', '39996', '-', 'The', 'house', 'is', 'on', 'the', 'market', '.', '39997', 'Look', 'out', 'New', 'York', '.', 'I', \"'m\", 'coming', '.', '39998', 'Well', ',', 'that', \"'s\", 'just', 'fabulous', '.', 'Name', ':', 'Line', ',', 'Length', ':', '39999', ',', 'dtype', ':', 'object']\n",
      "['0', 'Once', 'upon', 'time,', 'English', 'journalist', 'came', 't...', '1', 'Elizabeth', 'attractive', 'bright.', '2', 'Right', 'away', 'hooked', 'one', \"city'...\", '3', 'The', 'question', 'remains--', 'Is', 'really', 'compan...', '4', 'Tim', '42,', 'well-liked', 'respected', 'investm...', '...', '39994', '-', \"What's\", 'shaking', 'baby?', '39995', '-', \"How's\", 'Napa?', '39996', '-', 'The', 'house', 'market.', '39997', 'Look', 'New', 'York.', \"I'm\", 'coming.', '39998', 'Well,', \"that's\", 'fabulous.', 'Name:', 'Line,', 'Length:', '39999,', 'dtype:', 'object']\n"
     ]
    }
   ],
   "source": [
    "# nltk.download('punkt')\n",
    "from nltk.tokenize import word_tokenize\n",
    "\n",
    "# random sentecnce with lot of stop words\n",
    "text_tokens = word_tokenize(text)\n",
    "\n",
    "tokens_without_sw = [word for word in text.split() if not word in stopwords.words('english')]\n",
    "\n",
    "print(text_tokens)\n",
    "print(tokens_without_sw)"
   ]
  },
  {
   "cell_type": "code",
   "execution_count": 12,
   "metadata": {},
   "outputs": [
    {
     "data": {
      "text/plain": [
       "['well,',\n",
       " \"that'\",\n",
       " 'fabulous.',\n",
       " 'name:',\n",
       " 'line,',\n",
       " 'length:',\n",
       " '39999,',\n",
       " 'dtype:',\n",
       " 'object']"
      ]
     },
     "execution_count": 12,
     "metadata": {},
     "output_type": "execute_result"
    }
   ],
   "source": [
    "[w for w in tokenizer_porter(text) [-10:] if w not in stop]"
   ]
  },
  {
   "cell_type": "markdown",
   "metadata": {},
   "source": [
    "## Most common phrases - Carrie"
   ]
  },
  {
   "cell_type": "code",
   "execution_count": 13,
   "metadata": {},
   "outputs": [
    {
     "data": {
      "text/html": [
       "<div>\n",
       "<style scoped>\n",
       "    .dataframe tbody tr th:only-of-type {\n",
       "        vertical-align: middle;\n",
       "    }\n",
       "\n",
       "    .dataframe tbody tr th {\n",
       "        vertical-align: top;\n",
       "    }\n",
       "\n",
       "    .dataframe thead th {\n",
       "        text-align: right;\n",
       "    }\n",
       "</style>\n",
       "<table border=\"1\" class=\"dataframe\">\n",
       "  <thead>\n",
       "    <tr style=\"text-align: right;\">\n",
       "      <th></th>\n",
       "      <th>Season</th>\n",
       "      <th>Episode</th>\n",
       "      <th>Speaker</th>\n",
       "      <th>Line</th>\n",
       "    </tr>\n",
       "  </thead>\n",
       "  <tbody>\n",
       "    <tr>\n",
       "      <th>0</th>\n",
       "      <td>1.0</td>\n",
       "      <td>1.0</td>\n",
       "      <td>Carrie</td>\n",
       "      <td>Once upon a time, an English journalist came t...</td>\n",
       "    </tr>\n",
       "    <tr>\n",
       "      <th>1</th>\n",
       "      <td>1.0</td>\n",
       "      <td>1.0</td>\n",
       "      <td>Carrie</td>\n",
       "      <td>Elizabeth was attractive and bright.</td>\n",
       "    </tr>\n",
       "    <tr>\n",
       "      <th>2</th>\n",
       "      <td>1.0</td>\n",
       "      <td>1.0</td>\n",
       "      <td>Carrie</td>\n",
       "      <td>Right away she hooked up with one of the city'...</td>\n",
       "    </tr>\n",
       "    <tr>\n",
       "      <th>4</th>\n",
       "      <td>1.0</td>\n",
       "      <td>1.0</td>\n",
       "      <td>Carrie</td>\n",
       "      <td>Tim was 42, a well-liked and respected investm...</td>\n",
       "    </tr>\n",
       "    <tr>\n",
       "      <th>5</th>\n",
       "      <td>1.0</td>\n",
       "      <td>1.0</td>\n",
       "      <td>Carrie</td>\n",
       "      <td>They met one evening, in typical New York fash...</td>\n",
       "    </tr>\n",
       "  </tbody>\n",
       "</table>\n",
       "</div>"
      ],
      "text/plain": [
       "   Season  Episode Speaker                                               Line\n",
       "0     1.0      1.0  Carrie  Once upon a time, an English journalist came t...\n",
       "1     1.0      1.0  Carrie               Elizabeth was attractive and bright.\n",
       "2     1.0      1.0  Carrie  Right away she hooked up with one of the city'...\n",
       "4     1.0      1.0  Carrie  Tim was 42, a well-liked and respected investm...\n",
       "5     1.0      1.0  Carrie  They met one evening, in typical New York fash..."
      ]
     },
     "execution_count": 13,
     "metadata": {},
     "output_type": "execute_result"
    }
   ],
   "source": [
    "carrie = df.loc[data['Speaker'] == 'Carrie']\n",
    "carrie.head()"
   ]
  },
  {
   "cell_type": "code",
   "execution_count": 14,
   "metadata": {},
   "outputs": [
    {
     "data": {
      "text/plain": [
       "[('Thank you.', 26),\n",
       " ('Hi.', 25),\n",
       " ('- No.', 25),\n",
       " ('No.', 24),\n",
       " (\"I'm sorry.\", 21),\n",
       " ('- Thank you.', 20),\n",
       " ('Okay.', 20),\n",
       " ('- Yeah.', 19),\n",
       " ('- Okay.', 18),\n",
       " (\"I don't know.\", 17),\n",
       " ('- Yes.', 12),\n",
       " ('Thanks.', 12),\n",
       " ('Yeah.', 11),\n",
       " ('- What?', 11),\n",
       " ('All right.', 10),\n",
       " ('Bye.', 10),\n",
       " ('Big.', 10),\n",
       " ('Oh, my God.', 10),\n",
       " ('- What? ', 10),\n",
       " ('What?', 10)]"
      ]
     },
     "execution_count": 14,
     "metadata": {},
     "output_type": "execute_result"
    }
   ],
   "source": [
    "# most common phrases for Carrie\n",
    "freqc = nltk.FreqDist(carrie['Line'])\n",
    "freqc.most_common(20)"
   ]
  },
  {
   "cell_type": "markdown",
   "metadata": {},
   "source": [
    "## Most common phrases - Miranda"
   ]
  },
  {
   "cell_type": "code",
   "execution_count": 15,
   "metadata": {},
   "outputs": [
    {
     "data": {
      "text/html": [
       "<div>\n",
       "<style scoped>\n",
       "    .dataframe tbody tr th:only-of-type {\n",
       "        vertical-align: middle;\n",
       "    }\n",
       "\n",
       "    .dataframe tbody tr th {\n",
       "        vertical-align: top;\n",
       "    }\n",
       "\n",
       "    .dataframe thead th {\n",
       "        text-align: right;\n",
       "    }\n",
       "</style>\n",
       "<table border=\"1\" class=\"dataframe\">\n",
       "  <thead>\n",
       "    <tr style=\"text-align: right;\">\n",
       "      <th></th>\n",
       "      <th>Season</th>\n",
       "      <th>Episode</th>\n",
       "      <th>Speaker</th>\n",
       "      <th>Line</th>\n",
       "    </tr>\n",
       "  </thead>\n",
       "  <tbody>\n",
       "    <tr>\n",
       "      <th>56</th>\n",
       "      <td>1.0</td>\n",
       "      <td>1.0</td>\n",
       "      <td>Miranda</td>\n",
       "      <td>I have a friend who'd always gone out with ext...</td>\n",
       "    </tr>\n",
       "    <tr>\n",
       "      <th>57</th>\n",
       "      <td>1.0</td>\n",
       "      <td>1.0</td>\n",
       "      <td>Miranda</td>\n",
       "      <td>One day she woke up, and she was 41.</td>\n",
       "    </tr>\n",
       "    <tr>\n",
       "      <th>58</th>\n",
       "      <td>1.0</td>\n",
       "      <td>1.0</td>\n",
       "      <td>Miranda</td>\n",
       "      <td>She couldn't get any more dates.</td>\n",
       "    </tr>\n",
       "    <tr>\n",
       "      <th>59</th>\n",
       "      <td>1.0</td>\n",
       "      <td>1.0</td>\n",
       "      <td>Miranda</td>\n",
       "      <td>She had a complete physical breakdown couldn't...</td>\n",
       "    </tr>\n",
       "    <tr>\n",
       "      <th>60</th>\n",
       "      <td>1.0</td>\n",
       "      <td>1.0</td>\n",
       "      <td>Miranda</td>\n",
       "      <td>Trust me-- this is not a story that makes men ...</td>\n",
       "    </tr>\n",
       "  </tbody>\n",
       "</table>\n",
       "</div>"
      ],
      "text/plain": [
       "    Season  Episode  Speaker  \\\n",
       "56     1.0      1.0  Miranda   \n",
       "57     1.0      1.0  Miranda   \n",
       "58     1.0      1.0  Miranda   \n",
       "59     1.0      1.0  Miranda   \n",
       "60     1.0      1.0  Miranda   \n",
       "\n",
       "                                                 Line  \n",
       "56  I have a friend who'd always gone out with ext...  \n",
       "57               One day she woke up, and she was 41.  \n",
       "58                   She couldn't get any more dates.  \n",
       "59  She had a complete physical breakdown couldn't...  \n",
       "60  Trust me-- this is not a story that makes men ...  "
      ]
     },
     "execution_count": 15,
     "metadata": {},
     "output_type": "execute_result"
    }
   ],
   "source": [
    "miranda = df.loc[data['Speaker'] == 'Miranda']\n",
    "miranda.head()"
   ]
  },
  {
   "cell_type": "code",
   "execution_count": 16,
   "metadata": {},
   "outputs": [
    {
     "data": {
      "text/plain": [
       "[('No.', 13),\n",
       " ('What?', 11),\n",
       " ('Yeah.', 11),\n",
       " ('- No.', 11),\n",
       " ('Thank you.', 10),\n",
       " ('Thanks.', 10),\n",
       " ('Hi.', 9),\n",
       " ('- Yeah.', 9),\n",
       " ('Okay.', 8),\n",
       " ('- Thank you.', 8),\n",
       " (\"I don't know.\", 7),\n",
       " ('OK.', 7),\n",
       " ('- Really? ', 7),\n",
       " ('Hello.', 6),\n",
       " ('All right.', 5),\n",
       " ('Sure.', 5),\n",
       " ('Look.', 5),\n",
       " (\"I'm fine.\", 5),\n",
       " ('- OK.', 5),\n",
       " ('- Hi.', 5)]"
      ]
     },
     "execution_count": 16,
     "metadata": {},
     "output_type": "execute_result"
    }
   ],
   "source": [
    "# most common phrases for Miranda\n",
    "freqm = nltk.FreqDist(miranda['Line'])\n",
    "freqm.most_common(20)"
   ]
  },
  {
   "cell_type": "markdown",
   "metadata": {},
   "source": [
    "## Most common phrases - Samantha"
   ]
  },
  {
   "cell_type": "code",
   "execution_count": 17,
   "metadata": {},
   "outputs": [
    {
     "data": {
      "text/html": [
       "<div>\n",
       "<style scoped>\n",
       "    .dataframe tbody tr th:only-of-type {\n",
       "        vertical-align: middle;\n",
       "    }\n",
       "\n",
       "    .dataframe tbody tr th {\n",
       "        vertical-align: top;\n",
       "    }\n",
       "\n",
       "    .dataframe thead th {\n",
       "        text-align: right;\n",
       "    }\n",
       "</style>\n",
       "<table border=\"1\" class=\"dataframe\">\n",
       "  <thead>\n",
       "    <tr style=\"text-align: right;\">\n",
       "      <th></th>\n",
       "      <th>Season</th>\n",
       "      <th>Episode</th>\n",
       "      <th>Speaker</th>\n",
       "      <th>Line</th>\n",
       "    </tr>\n",
       "  </thead>\n",
       "  <tbody>\n",
       "    <tr>\n",
       "      <th>79</th>\n",
       "      <td>1.0</td>\n",
       "      <td>1.0</td>\n",
       "      <td>Samantha</td>\n",
       "      <td>Look. If you're a successful single woman in ...</td>\n",
       "    </tr>\n",
       "    <tr>\n",
       "      <th>81</th>\n",
       "      <td>1.0</td>\n",
       "      <td>1.0</td>\n",
       "      <td>Samantha</td>\n",
       "      <td>No, I mean without feeling.</td>\n",
       "    </tr>\n",
       "    <tr>\n",
       "      <th>84</th>\n",
       "      <td>1.0</td>\n",
       "      <td>1.0</td>\n",
       "      <td>Samantha</td>\n",
       "      <td>Remember that guy I was going out with? Oh, Go...</td>\n",
       "    </tr>\n",
       "    <tr>\n",
       "      <th>87</th>\n",
       "      <td>1.0</td>\n",
       "      <td>1.0</td>\n",
       "      <td>Samantha</td>\n",
       "      <td>- Right.</td>\n",
       "    </tr>\n",
       "    <tr>\n",
       "      <th>88</th>\n",
       "      <td>1.0</td>\n",
       "      <td>1.0</td>\n",
       "      <td>Samantha</td>\n",
       "      <td>Afterwards? I didn't feel a thing.</td>\n",
       "    </tr>\n",
       "  </tbody>\n",
       "</table>\n",
       "</div>"
      ],
      "text/plain": [
       "    Season  Episode   Speaker  \\\n",
       "79     1.0      1.0  Samantha   \n",
       "81     1.0      1.0  Samantha   \n",
       "84     1.0      1.0  Samantha   \n",
       "87     1.0      1.0  Samantha   \n",
       "88     1.0      1.0  Samantha   \n",
       "\n",
       "                                                 Line  \n",
       "79   Look. If you're a successful single woman in ...  \n",
       "81                        No, I mean without feeling.  \n",
       "84  Remember that guy I was going out with? Oh, Go...  \n",
       "87                                           - Right.  \n",
       "88                 Afterwards? I didn't feel a thing.  "
      ]
     },
     "execution_count": 17,
     "metadata": {},
     "output_type": "execute_result"
    }
   ],
   "source": [
    "samantha = df.loc[data['Speaker'] == 'Samantha']\n",
    "samantha.head()"
   ]
  },
  {
   "cell_type": "code",
   "execution_count": 18,
   "metadata": {},
   "outputs": [
    {
     "data": {
      "text/plain": [
       "[('- No.', 11),\n",
       " ('Thank you.', 8),\n",
       " ('Excuse me.', 7),\n",
       " ('Yes.', 6),\n",
       " ('Hello.', 5),\n",
       " ('Fine.', 5),\n",
       " (\"I'm sorry.\", 5),\n",
       " ('- Yes.', 5),\n",
       " ('- I know.', 5),\n",
       " (\"I'm Samantha.\", 4),\n",
       " ('Thanks.', 4),\n",
       " ('Sure.', 4),\n",
       " ('- Hello.', 4),\n",
       " ('Come on.', 4),\n",
       " ('- What? ', 4),\n",
       " ('Oh, my God.', 3),\n",
       " ('- Yeah.', 3),\n",
       " ('Listen to me.', 3),\n",
       " ('Good for you.', 3),\n",
       " ('- Nothing.', 3)]"
      ]
     },
     "execution_count": 18,
     "metadata": {},
     "output_type": "execute_result"
    }
   ],
   "source": [
    "# most common phrases for Samantha\n",
    "freqs = nltk.FreqDist(samantha['Line'])\n",
    "freqs.most_common(20)"
   ]
  },
  {
   "cell_type": "markdown",
   "metadata": {},
   "source": [
    "## Most common phrases - Charlotte"
   ]
  },
  {
   "cell_type": "code",
   "execution_count": 19,
   "metadata": {},
   "outputs": [
    {
     "data": {
      "text/html": [
       "<div>\n",
       "<style scoped>\n",
       "    .dataframe tbody tr th:only-of-type {\n",
       "        vertical-align: middle;\n",
       "    }\n",
       "\n",
       "    .dataframe tbody tr th {\n",
       "        vertical-align: top;\n",
       "    }\n",
       "\n",
       "    .dataframe thead th {\n",
       "        text-align: right;\n",
       "    }\n",
       "</style>\n",
       "<table border=\"1\" class=\"dataframe\">\n",
       "  <thead>\n",
       "    <tr style=\"text-align: right;\">\n",
       "      <th></th>\n",
       "      <th>Season</th>\n",
       "      <th>Episode</th>\n",
       "      <th>Speaker</th>\n",
       "      <th>Line</th>\n",
       "    </tr>\n",
       "  </thead>\n",
       "  <tbody>\n",
       "    <tr>\n",
       "      <th>61</th>\n",
       "      <td>1.0</td>\n",
       "      <td>1.0</td>\n",
       "      <td>Charlotte</td>\n",
       "      <td>Most men are threatened by successful women.</td>\n",
       "    </tr>\n",
       "    <tr>\n",
       "      <th>62</th>\n",
       "      <td>1.0</td>\n",
       "      <td>1.0</td>\n",
       "      <td>Charlotte</td>\n",
       "      <td>If you want to get these guys, you have to kee...</td>\n",
       "    </tr>\n",
       "    <tr>\n",
       "      <th>68</th>\n",
       "      <td>1.0</td>\n",
       "      <td>1.0</td>\n",
       "      <td>Charlotte</td>\n",
       "      <td>It's like the older we get, the more we keep s...</td>\n",
       "    </tr>\n",
       "    <tr>\n",
       "      <th>80</th>\n",
       "      <td>1.0</td>\n",
       "      <td>1.0</td>\n",
       "      <td>Charlotte</td>\n",
       "      <td>- You mean with dildos?</td>\n",
       "    </tr>\n",
       "    <tr>\n",
       "      <th>92</th>\n",
       "      <td>1.0</td>\n",
       "      <td>1.0</td>\n",
       "      <td>Charlotte</td>\n",
       "      <td>But are you sure that isn't just 'cause he did...</td>\n",
       "    </tr>\n",
       "  </tbody>\n",
       "</table>\n",
       "</div>"
      ],
      "text/plain": [
       "    Season  Episode    Speaker  \\\n",
       "61     1.0      1.0  Charlotte   \n",
       "62     1.0      1.0  Charlotte   \n",
       "68     1.0      1.0  Charlotte   \n",
       "80     1.0      1.0  Charlotte   \n",
       "92     1.0      1.0  Charlotte   \n",
       "\n",
       "                                                 Line  \n",
       "61       Most men are threatened by successful women.  \n",
       "62  If you want to get these guys, you have to kee...  \n",
       "68  It's like the older we get, the more we keep s...  \n",
       "80                            - You mean with dildos?  \n",
       "92  But are you sure that isn't just 'cause he did...  "
      ]
     },
     "execution_count": 19,
     "metadata": {},
     "output_type": "execute_result"
    }
   ],
   "source": [
    "charlotte = df.loc[data['Speaker'] == 'Charlotte']\n",
    "charlotte.head()"
   ]
  },
  {
   "cell_type": "code",
   "execution_count": 20,
   "metadata": {},
   "outputs": [
    {
     "data": {
      "text/plain": [
       "[('No.', 14),\n",
       " ('Hello.', 7),\n",
       " ('- Thanks.', 6),\n",
       " ('- What? ', 6),\n",
       " ('Thank you.', 5),\n",
       " ('- What?', 5),\n",
       " ('Yeah.', 4),\n",
       " (\"I don't know.\", 4),\n",
       " ('- No.', 4),\n",
       " ('Sorry.', 4),\n",
       " ('Okay.', 4),\n",
       " (\"I'm so sorry.\", 4),\n",
       " ('What? ', 4),\n",
       " ('I know.', 4),\n",
       " ('Bye.', 4),\n",
       " ('Stop.', 4),\n",
       " ('- Hi.', 4),\n",
       " ('- Bye.', 3),\n",
       " ('- Okay.', 3),\n",
       " (\"I can't.\", 3)]"
      ]
     },
     "execution_count": 20,
     "metadata": {},
     "output_type": "execute_result"
    }
   ],
   "source": [
    "# most common phrases for Charlotte\n",
    "freqch = nltk.FreqDist(charlotte['Line'])\n",
    "freqch.most_common(20)"
   ]
  },
  {
   "cell_type": "markdown",
   "metadata": {},
   "source": [
    "## Most common phrases - Mr. Big"
   ]
  },
  {
   "cell_type": "code",
   "execution_count": 21,
   "metadata": {},
   "outputs": [
    {
     "data": {
      "text/html": [
       "<div>\n",
       "<style scoped>\n",
       "    .dataframe tbody tr th:only-of-type {\n",
       "        vertical-align: middle;\n",
       "    }\n",
       "\n",
       "    .dataframe tbody tr th {\n",
       "        vertical-align: top;\n",
       "    }\n",
       "\n",
       "    .dataframe thead th {\n",
       "        text-align: right;\n",
       "    }\n",
       "</style>\n",
       "<table border=\"1\" class=\"dataframe\">\n",
       "  <thead>\n",
       "    <tr style=\"text-align: right;\">\n",
       "      <th></th>\n",
       "      <th>Season</th>\n",
       "      <th>Episode</th>\n",
       "      <th>Speaker</th>\n",
       "      <th>Line</th>\n",
       "    </tr>\n",
       "  </thead>\n",
       "  <tbody>\n",
       "    <tr>\n",
       "      <th>182</th>\n",
       "      <td>1.0</td>\n",
       "      <td>1.0</td>\n",
       "      <td>Big</td>\n",
       "      <td>- There ya go.</td>\n",
       "    </tr>\n",
       "    <tr>\n",
       "      <th>186</th>\n",
       "      <td>1.0</td>\n",
       "      <td>1.0</td>\n",
       "      <td>Big</td>\n",
       "      <td>Anytime.</td>\n",
       "    </tr>\n",
       "    <tr>\n",
       "      <th>312</th>\n",
       "      <td>1.0</td>\n",
       "      <td>1.0</td>\n",
       "      <td>Big</td>\n",
       "      <td>I've been smoking cigars for years back when t...</td>\n",
       "    </tr>\n",
       "    <tr>\n",
       "      <th>315</th>\n",
       "      <td>1.0</td>\n",
       "      <td>1.0</td>\n",
       "      <td>Big</td>\n",
       "      <td>No, thank you.</td>\n",
       "    </tr>\n",
       "    <tr>\n",
       "      <th>317</th>\n",
       "      <td>1.0</td>\n",
       "      <td>1.0</td>\n",
       "      <td>Big</td>\n",
       "      <td>Cohibas-- that's all I smoke.</td>\n",
       "    </tr>\n",
       "  </tbody>\n",
       "</table>\n",
       "</div>"
      ],
      "text/plain": [
       "     Season  Episode Speaker  \\\n",
       "182     1.0      1.0     Big   \n",
       "186     1.0      1.0     Big   \n",
       "312     1.0      1.0     Big   \n",
       "315     1.0      1.0     Big   \n",
       "317     1.0      1.0     Big   \n",
       "\n",
       "                                                  Line  \n",
       "182                                     - There ya go.  \n",
       "186                                           Anytime.  \n",
       "312  I've been smoking cigars for years back when t...  \n",
       "315                                     No, thank you.  \n",
       "317                      Cohibas-- that's all I smoke.  "
      ]
     },
     "execution_count": 21,
     "metadata": {},
     "output_type": "execute_result"
    }
   ],
   "source": [
    "big = df.loc[data['Speaker'] == 'Big']\n",
    "big.head()"
   ]
  },
  {
   "cell_type": "code",
   "execution_count": 22,
   "metadata": {},
   "outputs": [
    {
     "data": {
      "text/plain": [
       "[('Listen.', 4),\n",
       " (\"I don't know.\", 4),\n",
       " ('What?', 4),\n",
       " ('Yeah.', 3),\n",
       " ('Bye.', 3),\n",
       " ('Sure.', 3),\n",
       " ('Why? ', 3),\n",
       " (\"I'm sorry.\", 3),\n",
       " ('Carrie.', 3),\n",
       " ('- What? ', 2),\n",
       " ('Interesting dress.', 2),\n",
       " ('Baby.', 2),\n",
       " ('Right.', 2),\n",
       " ('Hey.', 2),\n",
       " ('- Yeah.', 2),\n",
       " ('Excuse me.', 2),\n",
       " ('Yes.', 2),\n",
       " ('Good.', 2),\n",
       " ('What? ', 2),\n",
       " ('Jesus.', 2)]"
      ]
     },
     "execution_count": 22,
     "metadata": {},
     "output_type": "execute_result"
    }
   ],
   "source": [
    "# most common phrases for Mr. Big\n",
    "freqb = nltk.FreqDist(big['Line'])\n",
    "freqb.most_common(20)"
   ]
  },
  {
   "cell_type": "code",
   "execution_count": null,
   "metadata": {},
   "outputs": [],
   "source": []
  }
 ],
 "metadata": {
  "kernelspec": {
   "display_name": "Python 3",
   "language": "python",
   "name": "python3"
  },
  "language_info": {
   "codemirror_mode": {
    "name": "ipython",
    "version": 3
   },
   "file_extension": ".py",
   "mimetype": "text/x-python",
   "name": "python",
   "nbconvert_exporter": "python",
   "pygments_lexer": "ipython3",
   "version": "3.8.2"
  }
 },
 "nbformat": 4,
 "nbformat_minor": 4
}
